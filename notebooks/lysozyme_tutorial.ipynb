{
 "cells": [
  {
   "cell_type": "markdown",
   "metadata": {},
   "source": [
    "# Recording Data Provenance with ``aiida-gromacs``"
   ]
  },
  {
   "cell_type": "markdown",
   "metadata": {},
   "source": [
    "This tutorial follows Justin Lemkul’s [lysozyme tutorial](http://www.mdtutorials.com/gmx/lysozyme/). We will not explain each individual step as this can be found on Justin’s webpage, but we will link to each page and show the AiiDA equivalant command.\n",
    "\n",
    "Please also note the slight differences in commands between the tutorial and that by Justin Lemkul is simply down to the way we are recording provenance requires non-interactive input into the gromacs tools.\n",
    "\n",
    "Also at each of the below steps you should run ``verdi`` (the command line interface utility for AiiDA) to view the status of the submitted process before moving onto the next step, you do this by:"
   ]
  },
  {
   "cell_type": "code",
   "execution_count": 13,
   "metadata": {},
   "outputs": [
    {
     "name": "stdout",
     "output_type": "stream",
     "text": [
      "\u001b[22mPK    Created    Process label    Process State    Process status\n",
      "----  ---------  ---------------  ---------------  ----------------\u001b[0m\n",
      "\u001b[22m\n",
      "Total results: 0\n",
      "\u001b[0m\n",
      "\u001b[34m\u001b[1mReport\u001b[0m: \u001b[22mlast time an entry changed state: 21m ago (at 20:46:54 on 2023-10-10)\u001b[0m\n",
      "\u001b[34m\u001b[1mReport\u001b[0m: \u001b[22mChecking daemon load... \u001b[0m\u001b[32m\u001b[1mOK\u001b[0m\n",
      "\u001b[34m\u001b[1mReport\u001b[0m: \u001b[22mUsing 0% of the available daemon worker slots.\u001b[0m\n"
     ]
    }
   ],
   "source": [
    "! verdi process list -a"
   ]
  },
  {
   "cell_type": "markdown",
   "metadata": {},
   "source": [
    "In this notebook, AiiDA, the aiida-gromacs plugin and dependent tools are pre-installed. Here's a brief description of the tools used; AiiDA uses a [PostgreSQL](https://www.postgresql.org) database to store all data produced and the links between input and output files for each command run, which are termed processes in AiiDA. Communication between submitted processes are handled with [RabbitMQ](https://www.rabbitmq.com/) and submitted processes are handled with a deamon process that runs in the background.\n",
    "\n",
    "A successfully finished process will exit with code [0]. \n",
    "\n",
    "1. We will start from the [pbd2gmx](http://www.mdtutorials.com/gmx/lysozyme/01_pdb2gmx.html)  step of Justin’s tutorial, with the aiida-gromacs equivalent python wrapper ``gmx_pdb2gmx``:"
   ]
  },
  {
   "cell_type": "code",
   "execution_count": 14,
   "metadata": {},
   "outputs": [
    {
     "name": "stdout",
     "output_type": "stream",
     "text": []
    }
   ],
   "source": [
    "! gmx_pdb2gmx -f gromacs_files/1AKI_clean.pdb -ff oplsaa -water spce -o 1AKI_forcefield.gro -p 1AKI_topology.top -i 1AKI_restraints.itp"
   ]
  },
  {
   "cell_type": "code",
   "execution_count": 16,
   "metadata": {},
   "outputs": [
    {
     "name": "stdout",
     "output_type": "stream",
     "text": [
      "\u001b[22m  PK  Created    Process label       Process State    Process status\n",
      "----  ---------  ------------------  ---------------  ----------------\n",
      " 559  13s ago    Pdb2gmxCalculation  ⏹ Finished [0]\u001b[0m\n",
      "\u001b[22m\n",
      "Total results: 1\n",
      "\u001b[0m\n",
      "\u001b[34m\u001b[1mReport\u001b[0m: \u001b[22mlast time an entry changed state: 12s ago (at 21:08:00 on 2023-10-10)\u001b[0m\n",
      "\u001b[34m\u001b[1mReport\u001b[0m: \u001b[22mChecking daemon load... \u001b[0m\u001b[32m\u001b[1mOK\u001b[0m\n",
      "\u001b[34m\u001b[1mReport\u001b[0m: \u001b[22mUsing 0% of the available daemon worker slots.\u001b[0m\n"
     ]
    }
   ],
   "source": [
    "! verdi process list -a"
   ]
  },
  {
   "cell_type": "markdown",
   "metadata": {},
   "source": [
    "2. Next we will create the [box and then solvate](http://www.mdtutorials.com/gmx/lysozyme/03_solvate.html):"
   ]
  },
  {
   "cell_type": "code",
   "execution_count": 17,
   "metadata": {},
   "outputs": [
    {
     "name": "stdout",
     "output_type": "stream",
     "text": []
    }
   ],
   "source": [
    "! gmx_editconf -f 1AKI_forcefield.gro -center 0 -d 1.0 -bt cubic -o 1AKI_newbox.gro\n",
    "! gmx_solvate -cp 1AKI_newbox.gro -cs spc216.gro -p 1AKI_topology.top -o 1AKI_solvated.gro"
   ]
  },
  {
   "cell_type": "code",
   "execution_count": 18,
   "metadata": {},
   "outputs": [
    {
     "name": "stdout",
     "output_type": "stream",
     "text": [
      "\u001b[22m  PK  Created    Process label        Process State    Process status\n",
      "----  ---------  -------------------  ---------------  ----------------\n",
      " 559  21s ago    Pdb2gmxCalculation   ⏹ Finished [0]\n",
      " 567  4s ago     EditconfCalculation  ⏹ Finished [0]\n",
      " 573  2s ago     SolvateCalculation   ⏹ Finished [0]\u001b[0m\n",
      "\u001b[22m\n",
      "Total results: 3\n",
      "\u001b[0m\n",
      "\u001b[34m\u001b[1mReport\u001b[0m: \u001b[22mlast time an entry changed state: 1s ago (at 21:08:18 on 2023-10-10)\u001b[0m\n",
      "\u001b[34m\u001b[1mReport\u001b[0m: \u001b[22mChecking daemon load... \u001b[0m\u001b[32m\u001b[1mOK\u001b[0m\n",
      "\u001b[34m\u001b[1mReport\u001b[0m: \u001b[22mUsing 0% of the available daemon worker slots.\u001b[0m\n"
     ]
    }
   ],
   "source": [
    "! verdi process list -a"
   ]
  },
  {
   "cell_type": "markdown",
   "metadata": {},
   "source": [
    "3. & 4. Then add [ions](http://www.mdtutorials.com/gmx/lysozyme/04_ions.html) to neutralise the system after preprocessing the topology:"
   ]
  },
  {
   "cell_type": "code",
   "execution_count": 19,
   "metadata": {},
   "outputs": [
    {
     "name": "stdout",
     "output_type": "stream",
     "text": []
    }
   ],
   "source": [
    "! gmx_grompp -f gromacs_files/ions.mdp -c 1AKI_solvated.gro -p 1AKI_topology.top -o 1AKI_ions.tpr\n",
    "! gmx_genion -s 1AKI_ions.tpr -p 1AKI_topology.top -pname NA -nname CL -neutral true -o 1AKI_solvated_ions.gro"
   ]
  },
  {
   "cell_type": "markdown",
   "metadata": {},
   "source": [
    "5. & 6. The [minimise](http://www.mdtutorials.com/gmx/lysozyme/05_EM.html) the system after preprocessing the topology:"
   ]
  },
  {
   "cell_type": "code",
   "execution_count": 20,
   "metadata": {},
   "outputs": [
    {
     "name": "stdout",
     "output_type": "stream",
     "text": []
    }
   ],
   "source": [
    "! gmx_grompp -f gromacs_files/min.mdp -c 1AKI_solvated_ions.gro -p 1AKI_topology.top -o 1AKI_minimised.tpr\n",
    "! gmx_mdrun -s 1AKI_minimised.tpr -c 1AKI_minimised.gro -e 1AKI_minimised.edr -g 1AKI_minimised.log -o 1AKI_minimised.trr"
   ]
  },
  {
   "cell_type": "code",
   "execution_count": 21,
   "metadata": {},
   "outputs": [
    {
     "name": "stdout",
     "output_type": "stream",
     "text": [
      "\u001b[22m  PK  Created    Process label        Process State    Process status\n",
      "----  ---------  -------------------  ---------------  ----------------\n",
      " 559  56s ago    Pdb2gmxCalculation   ⏹ Finished [0]\n",
      " 567  39s ago    EditconfCalculation  ⏹ Finished [0]\n",
      " 573  38s ago    SolvateCalculation   ⏹ Finished [0]\n",
      " 581  24s ago    GromppCalculation    ⏹ Finished [0]\n",
      " 587  23s ago    GenionCalculation    ⏹ Finished [0]\n",
      " 595  16s ago    GromppCalculation    ⏹ Finished [0]\n",
      " 601  15s ago    MdrunCalculation     ⏹ Finished [0]\u001b[0m\n",
      "\u001b[22m\n",
      "Total results: 7\n",
      "\u001b[0m\n",
      "\u001b[34m\u001b[1mReport\u001b[0m: \u001b[22mlast time an entry changed state: 2s ago (at 21:08:53 on 2023-10-10)\u001b[0m\n",
      "\u001b[34m\u001b[1mReport\u001b[0m: \u001b[22mChecking daemon load... \u001b[0m\u001b[32m\u001b[1mOK\u001b[0m\n",
      "\u001b[34m\u001b[1mReport\u001b[0m: \u001b[22mUsing 0% of the available daemon worker slots.\u001b[0m\n"
     ]
    }
   ],
   "source": [
    "! verdi process list -a"
   ]
  },
  {
   "cell_type": "code",
   "execution_count": 22,
   "metadata": {},
   "outputs": [
    {
     "name": "stdout",
     "output_type": "stream",
     "text": [
      "\u001b[32m\u001b[1mSuccess: \u001b[0m\u001b[22mOutput written to `601.dot.pdf`\u001b[0m\n"
     ]
    }
   ],
   "source": [
    "! verdi node graph generate <PK>"
   ]
  }
 ],
 "metadata": {
  "kernelspec": {
   "display_name": "aiida-2.4.0",
   "language": "python",
   "name": "python3"
  },
  "language_info": {
   "codemirror_mode": {
    "name": "ipython",
    "version": 3
   },
   "file_extension": ".py",
   "mimetype": "text/x-python",
   "name": "python",
   "nbconvert_exporter": "python",
   "pygments_lexer": "ipython3",
   "version": "3.11.0"
  }
 },
 "nbformat": 4,
 "nbformat_minor": 2
}
